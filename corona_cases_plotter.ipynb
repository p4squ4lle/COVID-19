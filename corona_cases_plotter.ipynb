{
 "cells": [
  {
   "cell_type": "markdown",
   "metadata": {},
   "source": [
    "# Corona Cases Plotter"
   ]
  },
  {
   "cell_type": "code",
   "execution_count": 8,
   "metadata": {
    "code_folding": []
   },
   "outputs": [],
   "source": [
    "# Import all the modules and shit\n",
    "from ipywidgets import interact, interactive, fixed, interact_manual\n",
    "import ipywidgets as widgets\n",
    "from ipywidgets import interact, interactive, fixed, interact_manual\n",
    "from IPython.display import display\n",
    "import ipywidgets as widgets\n",
    "import matplotlib.pyplot as plt\n",
    "import csv\n",
    "import datetime as dt\n",
    "\n",
    "%matplotlib widget"
   ]
  },
  {
   "cell_type": "markdown",
   "metadata": {},
   "source": [
    "### Choose Country or Region"
   ]
  },
  {
   "cell_type": "code",
   "execution_count": 2,
   "metadata": {
    "code_folding": []
   },
   "outputs": [],
   "source": [
    "# Import the confirmed cases data\n",
    "\n",
    "wd = ('csse_covid_19_data/'\n",
    "      'csse_covid_19_time_series/')\n",
    "\n",
    "conf_filen = 'time_series_covid19_confirmed_global.csv'\n",
    "conf_rows = []\n",
    "\n",
    "with open(wd + conf_filen, 'r') as f:\n",
    "    csv_reader = csv.reader(f, delimiter=',')\n",
    "    for row in csv_reader:\n",
    "        conf_rows.append(row)\n",
    "    \n",
    "dates = conf_rows[0][4:]\n",
    "x = [dt.datetime.strptime(d,'%m/%d/%y').date() for d in dates]\n",
    "\n",
    "country_list = [row[1] for row in conf_rows[1:]]\n",
    "country_list.insert(0, 'global')"
   ]
  },
  {
   "cell_type": "code",
   "execution_count": 3,
   "metadata": {
    "code_folding": [
     0
    ]
   },
   "outputs": [
    {
     "data": {
      "application/vnd.jupyter.widget-view+json": {
       "model_id": "b3e8a07bbf6249d3915baeaa4f600078",
       "version_major": 2,
       "version_minor": 0
      },
      "text/plain": [
       "interactive(children=(Dropdown(description='country', options=('global', 'Afghanistan', 'Albania', 'Algeria', …"
      ]
     },
     "metadata": {},
     "output_type": "display_data"
    }
   ],
   "source": [
    "# Choose country \n",
    "\n",
    "def country_chooser(country):\n",
    "    return country\n",
    "\n",
    "count = interactive(country_chooser, country=country_list)\n",
    "display(count)"
   ]
  },
  {
   "cell_type": "code",
   "execution_count": 4,
   "metadata": {
    "code_folding": [
     0
    ],
    "scrolled": true
   },
   "outputs": [
    {
     "name": "stdout",
     "output_type": "stream",
     "text": [
      "You chose Germany as the country you want to look at.\n"
     ]
    }
   ],
   "source": [
    "# Print chosen country\n",
    "\n",
    "country = count.result\n",
    "print('You chose ' + country + ' as the country you want to look at.')"
   ]
  },
  {
   "cell_type": "code",
   "execution_count": 5,
   "metadata": {
    "code_folding": []
   },
   "outputs": [],
   "source": [
    "# Create confirmed cases time series for specified country\n",
    "\n",
    "countries = country_list[1:]\n",
    "index_list = [i for i in range(len(countries)) \n",
    "              if countries[i] == country] \n",
    "\n",
    "conf = [0] * len(dates)\n",
    "\n",
    "if country == 'global':\n",
    "    for row in conf_rows[1:]:\n",
    "          for i in range(len(dates)):\n",
    "            conf[i] += int(row[4+i])\n",
    "\n",
    "else:\n",
    "    for i in index_list:\n",
    "        for j in range(len(dates)):\n",
    "            conf[j] += int(conf_rows[i+1][4+j])\n",
    "\n",
    "    "
   ]
  },
  {
   "cell_type": "code",
   "execution_count": 6,
   "metadata": {
    "code_folding": [
     0
    ]
   },
   "outputs": [],
   "source": [
    "# Import confirmed deaths and create deaths time series for specified country\n",
    "\n",
    "death_filen = 'time_series_covid19_deaths_global.csv'\n",
    "death_rows = []\n",
    "\n",
    "with open(wd + death_filen, 'r') as f:\n",
    "    csv_reader = csv.reader(f, delimiter=',')\n",
    "    for row in csv_reader:\n",
    "        death_rows.append(row)\n",
    "\n",
    "death = [0] * len(dates)\n",
    "\n",
    "#countries = [row[1] for row in death_rows[1:]]\n",
    "#if country not in countries:\n",
    "#    print('Sorry dude, the country or region you specified was not found.\\n'\n",
    "#          'Check your spelling!')\n",
    "\n",
    "#index_list = [i for i in range(len(countries)) \n",
    "#              if countries[i] == country] \n",
    "\n",
    "if country == 'global':\n",
    "    for row in death_rows[1:]:\n",
    "          for i in range(len(dates)):\n",
    "            death[i] += int(row[4+i])\n",
    "\n",
    "else:\n",
    "    for i in index_list:\n",
    "        for j in range(len(dates)):\n",
    "            death[j] += int(death_rows[i+1][4+j])\n",
    "            "
   ]
  },
  {
   "cell_type": "code",
   "execution_count": 9,
   "metadata": {
    "code_folding": []
   },
   "outputs": [
    {
     "data": {
      "application/vnd.jupyter.widget-view+json": {
       "model_id": "ffd9a71a6cdd4c9c9427799326c8e78c",
       "version_major": 2,
       "version_minor": 0
      },
      "text/plain": [
       "Canvas(toolbar=Toolbar(toolitems=[('Home', 'Reset original view', 'home', 'home'), ('Back', 'Back to previous …"
      ]
     },
     "metadata": {},
     "output_type": "display_data"
    }
   ],
   "source": [
    "# Plot everything\n",
    "\n",
    "conf_tmp = conf\n",
    "\n",
    "for i in range(len(conf_tmp)):\n",
    "    if conf_tmp[i] != 0:\n",
    "        j = i\n",
    "        break\n",
    "        \n",
    "death_tmp = death\n",
    "\n",
    "for i in range(len(death_tmp)):\n",
    "    if death_tmp[i] != 0:\n",
    "        k = i\n",
    "        break\n",
    "        \n",
    "\n",
    "fig, [[ax1, ax2], [ax3, ax4]] = plt.subplots(2, 2, figsize=(9, 7), gridspec_kw={'hspace': 0.5})\n",
    "\n",
    "ax1.set_title('Confirmed cases and deaths (' + country + ')')\n",
    "ax1.bar(x[j:], conf[j:], label='confirmed (latest =' + str(conf[-1]) + ')')\n",
    "ax1.bar(x[j:], death[j:], label='deaths (latest =' + str(death[-1]) + ')')\n",
    "\n",
    "#ax1.set_yscale('log')\n",
    "ax1.legend()\n",
    "\n",
    "ax3.set_title('rel deaths ({})'.format(country))\n",
    "ax3.bar(x[k:], [death[i+k]/conf[i+k] for i in range(len(conf[k:]))])\n",
    "\n",
    "ax2.set_title('abs. increase/day ({})'.format(country))\n",
    "ax2.bar(x[j+1:], [conf[i+j+1]-conf[i+j] for i in range(len(conf)-j-1)])\n",
    "\n",
    "ax4.set_title('rel. increase/day ({})'.format(country))\n",
    "plt.bar(x[j+1:], [(conf[i+j+1]-conf[i+j])/conf[i+j+1] \n",
    "                  for i in range(len(conf)-j-1)])\n",
    "\n",
    "plt.setp(ax1.get_xticklabels(), rotation=45, ha=\"right\",\n",
    "         rotation_mode=\"anchor\")\n",
    "plt.setp(ax2.get_xticklabels(), rotation=45, ha=\"right\",\n",
    "         rotation_mode=\"anchor\")\n",
    "plt.setp(ax3.get_xticklabels(), rotation=45, ha=\"right\",\n",
    "         rotation_mode=\"anchor\")\n",
    "plt.setp(ax4.get_xticklabels(), rotation=45, ha=\"right\",\n",
    "         rotation_mode=\"anchor\")\n",
    "\n",
    "plt.show()\n",
    "\n",
    "#fig.autofmt_xdate()"
   ]
  },
  {
   "cell_type": "code",
   "execution_count": 10,
   "metadata": {
    "code_folding": []
   },
   "outputs": [
    {
     "data": {
      "application/vnd.jupyter.widget-view+json": {
       "model_id": "08c628440233489486b2d8d9c4e94d56",
       "version_major": 2,
       "version_minor": 0
      },
      "text/plain": [
       "Canvas(toolbar=Toolbar(toolitems=[('Home', 'Reset original view', 'home', 'home'), ('Back', 'Back to previous …"
      ]
     },
     "metadata": {},
     "output_type": "display_data"
    }
   ],
   "source": [
    "# Plot the confirmed cases and deaths\n",
    "\n",
    "conf_tmp = conf\n",
    "\n",
    "for i in range(len(conf_tmp)):\n",
    "    if conf_tmp[i] != 0:\n",
    "        j = i\n",
    "        break\n",
    "        \n",
    "\n",
    "plt.close('all')            \n",
    "plt.figure('cases')\n",
    "plt.bar(x[j:], conf[j:], label='confirmed (latest =' + str(conf[-1]) + ')')\n",
    "plt.bar(x[j:], death[j:], label='deaths (latest =' + str(death[-1]) + ')')\n",
    "#plt.yscale('log')\n",
    "plt.gcf().autofmt_xdate()\n",
    "plt.legend()\n",
    "plt.show()"
   ]
  },
  {
   "cell_type": "code",
   "execution_count": 14,
   "metadata": {
    "code_folding": [
     0
    ]
   },
   "outputs": [
    {
     "data": {
      "application/vnd.jupyter.widget-view+json": {
       "model_id": "cdfa2dab4e314a958ae024a925db5193",
       "version_major": 2,
       "version_minor": 0
      },
      "text/plain": [
       "Canvas(toolbar=Toolbar(toolitems=[('Home', 'Reset original view', 'home', 'home'), ('Back', 'Back to previous …"
      ]
     },
     "metadata": {},
     "output_type": "display_data"
    }
   ],
   "source": [
    "# Plot deaths/cases for each day\n",
    "\n",
    "death_tmp = death\n",
    "\n",
    "for i in range(len(death_tmp)):\n",
    "    if death_tmp[i] != 0:\n",
    "        k = i\n",
    "        break\n",
    "\n",
    "plt.figure('rel deaths')\n",
    "plt.bar(x[k:], [death[i+k]/conf[i+k] for i in range(len(conf[k:]))])\n",
    "plt.gcf().autofmt_xdate()\n",
    "plt.show()"
   ]
  },
  {
   "cell_type": "code",
   "execution_count": 18,
   "metadata": {
    "code_folding": [
     0
    ]
   },
   "outputs": [],
   "source": [
    "# Plot the absolute increase per day\n",
    "\n",
    "plt.figure('abs. zunahme pro tag')\n",
    "plt.bar(x[j+1:], [conf[i+j+1]-conf[i+j] for i in range(len(conf)-j-1)])\n",
    "plt.gcf().autofmt_xdate()\n",
    "plt.show()"
   ]
  },
  {
   "cell_type": "code",
   "execution_count": 19,
   "metadata": {
    "code_folding": [
     0
    ]
   },
   "outputs": [
    {
     "data": {
      "application/vnd.jupyter.widget-view+json": {
       "model_id": "ea44894261c8443f91af5d070d6ab579",
       "version_major": 2,
       "version_minor": 0
      },
      "text/plain": [
       "Canvas(toolbar=Toolbar(toolitems=[('Home', 'Reset original view', 'home', 'home'), ('Back', 'Back to previous …"
      ]
     },
     "metadata": {},
     "output_type": "display_data"
    }
   ],
   "source": [
    "# Plot the relative increase per day\n",
    "\n",
    "plt.figure('rel. zunahme pro tag')\n",
    "plt.bar(x[j+1:], [(conf[i+j+1]-conf[i+j])/conf[i+j+1] \n",
    "                  for i in range(len(conf)-j-1)])\n",
    "plt.gcf().autofmt_xdate()\n",
    "plt.show()"
   ]
  },
  {
   "cell_type": "code",
   "execution_count": 9,
   "metadata": {},
   "outputs": [],
   "source": [
    "A = [1, 2, 3, 5, 9, 15, 3]"
   ]
  },
  {
   "cell_type": "code",
   "execution_count": 10,
   "metadata": {},
   "outputs": [],
   "source": [
    "s = set(A)"
   ]
  },
  {
   "cell_type": "code",
   "execution_count": 11,
   "metadata": {},
   "outputs": [
    {
     "data": {
      "text/plain": [
       "{1, 2, 3, 5, 9, 15}"
      ]
     },
     "execution_count": 11,
     "metadata": {},
     "output_type": "execute_result"
    }
   ],
   "source": [
    "s"
   ]
  },
  {
   "cell_type": "code",
   "execution_count": 15,
   "metadata": {},
   "outputs": [
    {
     "data": {
      "text/plain": [
       "{2, 3, 5, 9, 15}"
      ]
     },
     "execution_count": 15,
     "metadata": {},
     "output_type": "execute_result"
    }
   ],
   "source": [
    "s"
   ]
  },
  {
   "cell_type": "code",
   "execution_count": 16,
   "metadata": {},
   "outputs": [
    {
     "data": {
      "text/plain": [
       "[1, 2, 3, 3, 5, 9, 15]"
      ]
     },
     "execution_count": 16,
     "metadata": {},
     "output_type": "execute_result"
    }
   ],
   "source": [
    "sorted(A)"
   ]
  },
  {
   "cell_type": "code",
   "execution_count": 17,
   "metadata": {},
   "outputs": [],
   "source": [
    "a = [1]"
   ]
  },
  {
   "cell_type": "code",
   "execution_count": 18,
   "metadata": {},
   "outputs": [
    {
     "data": {
      "text/plain": [
       "1"
      ]
     },
     "execution_count": 18,
     "metadata": {},
     "output_type": "execute_result"
    }
   ],
   "source": [
    "a[-1]\n"
   ]
  },
  {
   "cell_type": "code",
   "execution_count": 20,
   "metadata": {},
   "outputs": [
    {
     "name": "stdout",
     "output_type": "stream",
     "text": [
      "2\n",
      "4\n"
     ]
    }
   ],
   "source": [
    "for j in range(2, 6, 2):\n",
    "    print(j)"
   ]
  },
  {
   "cell_type": "code",
   "execution_count": null,
   "metadata": {},
   "outputs": [],
   "source": []
  }
 ],
 "metadata": {
  "hide_input": false,
  "kernelspec": {
   "display_name": "Python 3",
   "language": "python",
   "name": "python3"
  },
  "language_info": {
   "codemirror_mode": {
    "name": "ipython",
    "version": 3
   },
   "file_extension": ".py",
   "mimetype": "text/x-python",
   "name": "python",
   "nbconvert_exporter": "python",
   "pygments_lexer": "ipython3",
   "version": "3.6.11"
  }
 },
 "nbformat": 4,
 "nbformat_minor": 4
}
